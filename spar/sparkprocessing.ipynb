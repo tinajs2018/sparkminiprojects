{
 "cells": [
  {
   "cell_type": "code",
   "execution_count": 1,
   "metadata": {},
   "outputs": [],
   "source": [
    "import findspark\n",
    "findspark.init()"
   ]
  },
  {
   "cell_type": "code",
   "execution_count": 2,
   "metadata": {},
   "outputs": [],
   "source": [
    "#Importing the packages\n",
    "from pyspark.sql import SparkSession\n",
    "from pyspark.sql.types import StructType, StructField, IntegerType, StringType\n",
    "import pyspark.sql.functions as func"
   ]
  },
  {
   "cell_type": "code",
   "execution_count": 3,
   "metadata": {},
   "outputs": [],
   "source": [
    "#Creating the SparkSession\n",
    "spark = SparkSession.builder.appName(\"FirstApp\").getOrCreate()"
   ]
  },
  {
   "cell_type": "code",
   "execution_count": 4,
   "metadata": {},
   "outputs": [],
   "source": [
    "#Defining schema for your DataFrame\n",
    "myschema = StructType([\\\n",
    "                       StructField(\"userID\", IntegerType(), True),\n",
    "                       StructField(\"name\", StringType(), True),\n",
    "                       StructField(\"age\",IntegerType(), True),\n",
    "                       StructField(\"friends\",IntegerType(), True),\n",
    "                        ])"
   ]
  },
  {
   "cell_type": "code",
   "execution_count": 5,
   "metadata": {},
   "outputs": [],
   "source": [
    "#Creating DataFrame on a CSV file\n",
    "people = spark.read.format(\"csv\")\\\n",
    "    .schema(myschema)\\\n",
    "    .option(\"path\",\"fakefriends.csv\")\\\n",
    "    .load()"
   ]
  },
  {
   "cell_type": "code",
   "execution_count": 6,
   "metadata": {},
   "outputs": [],
   "source": [
    "#Performing all thetransformations\n",
    "output = people.select(people.userID,people.name\\\n",
    "                       ,people.age,people.friends)\\\n",
    "         .where(people.age < 30).withColumn('insert_ts', func.current_timestamp())\\\n",
    "         .orderBy(people.userID)"
   ]
  },
  {
   "cell_type": "code",
   "execution_count": 7,
   "metadata": {},
   "outputs": [
    {
     "data": {
      "text/plain": [
       "112"
      ]
     },
     "execution_count": 7,
     "metadata": {},
     "output_type": "execute_result"
    }
   ],
   "source": [
    "#taking the count of o/p DataFrame\n",
    "output.count()"
   ]
  },
  {
   "cell_type": "code",
   "execution_count": 8,
   "metadata": {},
   "outputs": [],
   "source": [
    "#create a temp view\n",
    "output.createOrReplaceTempView('people')"
   ]
  },
  {
   "cell_type": "code",
   "execution_count": 9,
   "metadata": {},
   "outputs": [
    {
     "name": "stdout",
     "output_type": "stream",
     "text": [
      "+--------+---+-------+--------------------+\n",
      "|    name|age|friends|           insert_ts|\n",
      "+--------+---+-------+--------------------+\n",
      "|Jean-Luc| 26|      2|2024-04-24 14:24:...|\n",
      "|    Hugh| 27|    181|2024-04-24 14:24:...|\n",
      "|  Weyoun| 22|    323|2024-04-24 14:24:...|\n",
      "|   Miles| 19|    268|2024-04-24 14:24:...|\n",
      "|  Julian| 25|      1|2024-04-24 14:24:...|\n",
      "|     Ben| 21|    445|2024-04-24 14:24:...|\n",
      "|  Julian| 22|    100|2024-04-24 14:24:...|\n",
      "|     Nog| 26|    281|2024-04-24 14:24:...|\n",
      "| Beverly| 27|    305|2024-04-24 14:24:...|\n",
      "|    Morn| 25|     96|2024-04-24 14:24:...|\n",
      "|   Brunt| 24|     49|2024-04-24 14:24:...|\n",
      "|     Nog| 20|      1|2024-04-24 14:24:...|\n",
      "| Beverly| 19|    269|2024-04-24 14:24:...|\n",
      "|   Brunt| 19|      5|2024-04-24 14:24:...|\n",
      "|  Geordi| 20|    100|2024-04-24 14:24:...|\n",
      "|  Geordi| 21|    477|2024-04-24 14:24:...|\n",
      "|  Kasidy| 22|    179|2024-04-24 14:24:...|\n",
      "|   Brunt| 20|    384|2024-04-24 14:24:...|\n",
      "|     Ben| 28|    311|2024-04-24 14:24:...|\n",
      "|    Worf| 24|    492|2024-04-24 14:24:...|\n",
      "+--------+---+-------+--------------------+\n",
      "only showing top 20 rows\n",
      "\n"
     ]
    }
   ],
   "source": [
    "#running a simple spark spl query\n",
    "spark.sql('select name,age,friends,insert_ts from people').show()"
   ]
  },
  {
   "cell_type": "code",
   "execution_count": 14,
   "metadata": {},
   "outputs": [],
   "source": [
    "output.write \\\n",
    "    .format(\"parquet\") \\\n",
    "    .option(\"path\", \"/home/christine/Desktop/spar/ouput\") \\\n",
    "    .partitionBy(\"age\") \\\n",
    "    .mode(\"append\") \\\n",
    "    .save()\n"
   ]
  },
  {
   "cell_type": "code",
   "execution_count": null,
   "metadata": {},
   "outputs": [],
   "source": []
  }
 ],
 "metadata": {
  "kernelspec": {
   "display_name": "base",
   "language": "python",
   "name": "python3"
  },
  "language_info": {
   "codemirror_mode": {
    "name": "ipython",
    "version": 3
   },
   "file_extension": ".py",
   "mimetype": "text/x-python",
   "name": "python",
   "nbconvert_exporter": "python",
   "pygments_lexer": "ipython3",
   "version": "3.8.8"
  }
 },
 "nbformat": 4,
 "nbformat_minor": 2
}
